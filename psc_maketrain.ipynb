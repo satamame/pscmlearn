{
 "cells": [
  {
   "cell_type": "code",
   "execution_count": null,
   "metadata": {},
   "outputs": [],
   "source": [
    "#! python3\n",
    "# encoding: utf-8\n",
    "\n",
    "# モデルごとの学習用中間データ (特徴量ファイルと教師ラベルファイル) を作るプログラム。\n",
    "# モデル名は、モデルフォルダ (models フォルダのサブフォルダ) の名前。\n",
    "# \n",
    "# 特徴量データは、csv 形式。\n",
    "\n",
    "import sys\n",
    "import csv\n",
    "\n",
    "import psclib.psc as psc\n",
    "from psclib.extract import Extractor"
   ]
  },
  {
   "cell_type": "code",
   "execution_count": null,
   "metadata": {},
   "outputs": [],
   "source": [
    "\"\"\"\n",
    "args = sys.argv\n",
    "if len(args) < 2:\n",
    "    print('Usage: python psc_maketrain.py model_name')\n",
    "    sys.exit()\n",
    "\"\"\"\n",
    "args = [\n",
    "    \"psc_maketrain.py\",\n",
    "    \"model000\"\n",
    "]"
   ]
  }
 ],
 "metadata": {
  "kernelspec": {
   "display_name": "Python 3",
   "language": "python",
   "name": "python3"
  },
  "language_info": {
   "codemirror_mode": {
    "name": "ipython",
    "version": 3
   },
   "file_extension": ".py",
   "mimetype": "text/x-python",
   "name": "python",
   "nbconvert_exporter": "python",
   "pygments_lexer": "ipython3",
   "version": "3.6.7"
  }
 },
 "nbformat": 4,
 "nbformat_minor": 2
}
