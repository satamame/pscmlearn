{
 "cells": [
  {
   "cell_type": "code",
   "execution_count": null,
   "metadata": {},
   "outputs": [],
   "source": [
    "#! python3\n",
    "# encoding: utf-8\n",
    "\n",
    "# 学習の前処理として、中間データ（特徴量と教師ラベル）を作るプログラム。\n",
    "# 特徴量データは、csv 形式。\n",
    "\n",
    "import sys\n",
    "import csv\n",
    "\n",
    "import psclib.psc as psc\n",
    "from psclib.extract import Extractor"
   ]
  },
  {
   "cell_type": "code",
   "execution_count": null,
   "metadata": {},
   "outputs": [],
   "source": [
    "\"\"\"\n",
    "args = sys.argv\n",
    "if len(args) < 4:\n",
    "    print('Usage: python psc_extract.py script_file feature_setting_file feature_save_file [label_save_file]')\n",
    "    sys.exit()\n",
    "\"\"\"\n",
    "args = [\n",
    "    \"psc_extract.py\",\n",
    "    \"train/tr_0000_sc.txt\",\n",
    "    \"model/mdl_0000_ft.txt\",\n",
    "    \"train/tr_0000_ft.csv\",\n",
    "    \"train/tr_0000_lbl.txt\"\n",
    "]"
   ]
  },
  {
   "cell_type": "code",
   "execution_count": null,
   "metadata": {},
   "outputs": [],
   "source": [
    "# パラメタを再定義\n",
    "sc_file = args[1]\n",
    "ft_setting_file = args[2]\n",
    "ft_save_file = args[3]\n",
    "if len(args) >= 5:\n",
    "    lbl_save_file = args[4]\n",
    "else:\n",
    "    lbl_save_file = \"\""
   ]
  },
  {
   "cell_type": "code",
   "execution_count": null,
   "metadata": {},
   "outputs": [],
   "source": [
    "# 入力データをリストに\n",
    "with open(sc_file, 'r', encoding='utf_8_sig') as f:\n",
    "    lines = [l.rstrip() for l in f.readlines()]\n",
    "\n",
    "# 教師ラベルを分離・保存\n",
    "if lbl_save_file != \"\":\n",
    "    data, labels = psc.isolate_labels_from_lines(lines)\n",
    "    with open(lbl_save_file, 'w') as f:\n",
    "        for l in labels:\n",
    "            f.write(l + '\\n')\n",
    "    print(\"Training labels are saved as {}.\".format(lbl_save_file))\n",
    "else:\n",
    "    data = lines"
   ]
  },
  {
   "cell_type": "code",
   "execution_count": null,
   "metadata": {},
   "outputs": [],
   "source": [
    "# 形態素解析\n",
    "token_lines = psc.tokenize_lines(data)\n",
    "\n",
    "# 特徴量の設定を読み込む\n",
    "ftels = psc.read_feature_elements(ft_setting_file)\n",
    "\n",
    "# 特徴抽出・保存\n",
    "ex = Extractor(token_lines, ftels)\n",
    "ft_list = ex.extract()\n",
    "\n",
    "with open(ft_save_file, 'w', newline='') as f:\n",
    "    writer = csv.writer(f)\n",
    "    writer.writerows(ft_list)\n",
    "\n",
    "print(\"Feature data is saved as {}.\".format(ft_save_file))"
   ]
  },
  {
   "cell_type": "code",
   "execution_count": null,
   "metadata": {},
   "outputs": [],
   "source": []
  }
 ],
 "metadata": {
  "kernelspec": {
   "display_name": "Python 3",
   "language": "python",
   "name": "python3"
  },
  "language_info": {
   "codemirror_mode": {
    "name": "ipython",
    "version": 3
   },
   "file_extension": ".py",
   "mimetype": "text/x-python",
   "name": "python",
   "nbconvert_exporter": "python",
   "pygments_lexer": "ipython3",
   "version": "3.6.7"
  }
 },
 "nbformat": 4,
 "nbformat_minor": 2
}
