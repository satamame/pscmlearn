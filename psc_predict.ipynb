{
 "cells": [
  {
   "cell_type": "code",
   "execution_count": null,
   "metadata": {},
   "outputs": [],
   "source": [
    "#! python3\n",
    "# encoding: utf-8\n",
    "\n",
    "# 予測モデル, 特徴量データを入力として、予測結果 (ラベル) を出力するプログラム。\n",
    "\n",
    "import sys\n",
    "import pickle\n",
    "\n",
    "import psclib.psc as psc\n",
    "from psclib.extract import Extractor\n",
    "\n",
    "import numpy as np\n",
    "import cupy\n",
    "from chainer import Chain\n",
    "import pandas as pd"
   ]
  },
  {
   "cell_type": "code",
   "execution_count": null,
   "metadata": {},
   "outputs": [],
   "source": [
    "\"\"\"\n",
    "args = sys.argv\n",
    "if len(args) < 5:\n",
    "    print('Usage: python psc_predict.py model_file, feature_setting_file, script_file, result_save_file')\n",
    "    sys.exit()\n",
    "\"\"\"\n",
    "args = [\n",
    "    \"psc_predict.py\",\n",
    "    \"model/mdl_0000.pkl\",\n",
    "    \"model/mdl_0000_ft.txt\",\n",
    "    \"predict/prd_0000_sc.txt\",\n",
    "    \"predict/prd_0000_lbl.txt\"\n",
    "]"
   ]
  },
  {
   "cell_type": "code",
   "execution_count": null,
   "metadata": {},
   "outputs": [],
   "source": [
    "# パラメタを再定義\n",
    "mdl_file = args[1]\n",
    "ft_setting_file = args[2]\n",
    "sc_file = args[3]\n",
    "lbl_file = args[4]"
   ]
  },
  {
   "cell_type": "code",
   "execution_count": null,
   "metadata": {},
   "outputs": [],
   "source": [
    "# 入力データをリストに\n",
    "with open(sc_file, 'r', encoding='utf_8_sig') as f:\n",
    "    lines = [l.rstrip() for l in f.readlines()]\n",
    "\n",
    "# 形態素解析\n",
    "token_lines = psc.tokenize_lines(lines)"
   ]
  },
  {
   "cell_type": "code",
   "execution_count": null,
   "metadata": {},
   "outputs": [],
   "source": [
    "# 特徴量設定を読み込む\n",
    "ftels = psc.read_feature_elements(ft_setting_file)\n",
    "\n",
    "# 特徴量抽出\n",
    "ex = Extractor(token_lines, ftels)\n",
    "ft_list = ex.extract()"
   ]
  },
  {
   "cell_type": "code",
   "execution_count": null,
   "metadata": {},
   "outputs": [],
   "source": [
    "# モデルを読み込む\n",
    "with open(mdl_file, mode='rb') as f:\n",
    "    model = pickle.load(f)\n",
    "\n",
    "# GPU を使うかのフラグ (使うなら 0, 使わないなら -1)\n",
    "gpu_id = 0\n",
    "\n",
    "if gpu_id >= 0:\n",
    "    model.to_gpu(gpu_id)"
   ]
  },
  {
   "cell_type": "code",
   "execution_count": null,
   "metadata": {},
   "outputs": [],
   "source": [
    "# 特徴量データの ndarray を作成\n",
    "if gpu_id >= 0:\n",
    "    in_dataset = cupy.cupy.array(ft_list, dtype=np.float32)\n",
    "else:\n",
    "    in_dataset = np.array(ft_list, dtype=np.float32)"
   ]
  },
  {
   "cell_type": "code",
   "execution_count": null,
   "metadata": {},
   "outputs": [],
   "source": [
    "# 順伝播\n",
    "out = model(in_dataset)\n",
    "\n",
    "# 個々の出力の最大値のインデックスをリストにする\n",
    "out_idx = out.data.argmax(axis = 1).tolist()\n",
    "\n",
    "# ラベルを表す文字列にする\n",
    "lbls = [psc.classes[i] for i in out_idx]"
   ]
  },
  {
   "cell_type": "code",
   "execution_count": null,
   "metadata": {},
   "outputs": [],
   "source": [
    "# 表示用に DataFrame にする\n",
    "df = pd.DataFrame({\"line\": [l.rstrip() for l in open(sc_file, 'r', encoding='utf-8')],\n",
    "                            \"label\": lbls})"
   ]
  },
  {
   "cell_type": "code",
   "execution_count": null,
   "metadata": {},
   "outputs": [],
   "source": [
    "print(df)"
   ]
  },
  {
   "cell_type": "code",
   "execution_count": null,
   "metadata": {},
   "outputs": [],
   "source": []
  }
 ],
 "metadata": {
  "kernelspec": {
   "display_name": "Python 3",
   "language": "python",
   "name": "python3"
  },
  "language_info": {
   "codemirror_mode": {
    "name": "ipython",
    "version": 3
   },
   "file_extension": ".py",
   "mimetype": "text/x-python",
   "name": "python",
   "nbconvert_exporter": "python",
   "pygments_lexer": "ipython3",
   "version": "3.6.7"
  }
 },
 "nbformat": 4,
 "nbformat_minor": 2
}
