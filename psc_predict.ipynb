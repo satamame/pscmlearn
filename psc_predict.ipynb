{
 "cells": [
  {
   "cell_type": "code",
   "execution_count": null,
   "metadata": {},
   "outputs": [],
   "source": [
    "#! python3\n",
    "# encoding: utf-8\n",
    "\n",
    "# 予測モデル, 特徴量データを入力として、予測結果 (ラベル) を出力するプログラム。\n",
    "\n",
    "import sys\n",
    "import pickle\n",
    "\n",
    "import psclib.psc as psc\n",
    "\n",
    "import numpy as np\n",
    "from chainer import Chain\n",
    "import chainer.links as L\n",
    "import chainer.functions as F\n",
    "import cupy"
   ]
  },
  {
   "cell_type": "code",
   "execution_count": null,
   "metadata": {},
   "outputs": [],
   "source": [
    "\"\"\"\n",
    "args = sys.argv\n",
    "if len(args) < 4:\n",
    "    print('Usage: python psc_predict.py model_file, feature_file, result_file')\n",
    "    sys.exit()\n",
    "\"\"\"\n",
    "args = [\n",
    "    \"psc_predict.py\",\n",
    "    \"model/mdl_0000.pkl\",\n",
    "    \"predict/prd_0000_ft.txt\",\n",
    "    \"predict/prd_0000_lbl.txt\"\n",
    "]"
   ]
  },
  {
   "cell_type": "code",
   "execution_count": null,
   "metadata": {},
   "outputs": [],
   "source": [
    "mdl_file = args[1]\n",
    "ft_file = args[2]\n",
    "lbl_file = args[3]"
   ]
  },
  {
   "cell_type": "code",
   "execution_count": null,
   "metadata": {},
   "outputs": [],
   "source": [
    "# モデルを読み込む\n",
    "with open(mdl_file, mode='rb') as f:\n",
    "    model = pickle.load(f)\n",
    "\n",
    "# GPU を使う (使うなら 0, 使わないなら -1)\n",
    "gpu_id = -1\n",
    "\n",
    "if gpu_id >= 0:\n",
    "    model.to_gpu(gpu_id)"
   ]
  },
  {
   "cell_type": "code",
   "execution_count": null,
   "metadata": {},
   "outputs": [],
   "source": [
    "# 特徴量データのリストを作成\n",
    "in_fts = []\n",
    "for line in open(ft_file, 'r'):\n",
    "    fts = [float(f) for f in line.split(',')]\n",
    "    in_fts.append(fts)\n",
    "\n",
    "if gpu_id >= 0:\n",
    "    in_dataset = cupy.cupy.array(in_fts, dtype=np.float32)\n",
    "else:\n",
    "    in_dataset = np.array(in_fts, dtype=np.float32)"
   ]
  },
  {
   "cell_type": "code",
   "execution_count": null,
   "metadata": {},
   "outputs": [],
   "source": [
    "print(type(in_dataset))\n",
    "print(in_dataset.shape)"
   ]
  },
  {
   "cell_type": "code",
   "execution_count": null,
   "metadata": {},
   "outputs": [],
   "source": [
    "# 順伝播の結果を得て、ラベルとして保存\n",
    "out = model(in_dataset)\n",
    "# 個々の出力の最大値のインデックスをリストにする\n",
    "out_idx = out.data.argmax(axis = 1).tolist()\n",
    "# ラベルを表す文字列にする\n",
    "lbls = [psc.classes[i] for i in out_idx]"
   ]
  },
  {
   "cell_type": "code",
   "execution_count": null,
   "metadata": {},
   "outputs": [],
   "source": [
    "print(lbls)"
   ]
  },
  {
   "cell_type": "code",
   "execution_count": null,
   "metadata": {},
   "outputs": [],
   "source": []
  }
 ],
 "metadata": {
  "kernelspec": {
   "display_name": "Python 3",
   "language": "python",
   "name": "python3"
  },
  "language_info": {
   "codemirror_mode": {
    "name": "ipython",
    "version": 3
   },
   "file_extension": ".py",
   "mimetype": "text/x-python",
   "name": "python",
   "nbconvert_exporter": "python",
   "pygments_lexer": "ipython3",
   "version": "3.6.7"
  }
 },
 "nbformat": 4,
 "nbformat_minor": 2
}
