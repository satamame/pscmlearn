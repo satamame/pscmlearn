{
 "cells": [
  {
   "cell_type": "code",
   "execution_count": 1,
   "metadata": {},
   "outputs": [],
   "source": [
    "line =     {\n",
    "        \"indent_chars\": \"\",\n",
    "        \"tokenized_words\": [\n",
    "            {\n",
    "                \"surface\": \"死人\",\n",
    "                \"part_of_speech\": \"名詞,一般,*,*\",\n",
    "                \"infl_type\": \"*\",\n",
    "                \"infl_form\": \"*\",\n",
    "                \"base_form\": \"死人\",\n",
    "                \"reading\": \"シニン\",\n",
    "                \"phonetic\": \"シニン\"\n",
    "            },\n",
    "            {\n",
    "                \"surface\": \"に\",\n",
    "                \"part_of_speech\": \"助詞,格助詞,一般,*\",\n",
    "                \"infl_type\": \"*\",\n",
    "                \"infl_form\": \"*\",\n",
    "                \"base_form\": \"に\",\n",
    "                \"reading\": \"ニ\",\n",
    "                \"phonetic\": \"ニ\"\n",
    "            },\n",
    "            {\n",
    "                \"surface\": \"もち肌\",\n",
    "                \"part_of_speech\": \"名詞,一般,*,*\",\n",
    "                \"infl_type\": \"*\",\n",
    "                \"infl_form\": \"*\",\n",
    "                \"base_form\": \"もち肌\",\n",
    "                \"reading\": \"モチハダ\",\n",
    "                \"phonetic\": \"モチハダ\"\n",
    "            }\n",
    "        ]\n",
    "    }"
   ]
  },
  {
   "cell_type": "code",
   "execution_count": 4,
   "metadata": {},
   "outputs": [
    {
     "data": {
      "text/plain": [
       "'名詞,一般,*,*'"
      ]
     },
     "execution_count": 4,
     "metadata": {},
     "output_type": "execute_result"
    }
   ],
   "source": [
    "line['tokenized_words'][0]['part_of_speech']"
   ]
  },
  {
   "cell_type": "code",
   "execution_count": 7,
   "metadata": {},
   "outputs": [
    {
     "data": {
      "text/plain": [
       "tuple"
      ]
     },
     "execution_count": 7,
     "metadata": {},
     "output_type": "execute_result"
    }
   ],
   "source": [
    "type(ftels[0])"
   ]
  },
  {
   "cell_type": "code",
   "execution_count": null,
   "metadata": {
    "collapsed": true
   },
   "outputs": [],
   "source": []
  }
 ],
 "metadata": {
  "kernelspec": {
   "display_name": "Python 3",
   "language": "python",
   "name": "python3"
  },
  "language_info": {
   "codemirror_mode": {
    "name": "ipython",
    "version": 3
   },
   "file_extension": ".py",
   "mimetype": "text/x-python",
   "name": "python",
   "nbconvert_exporter": "python",
   "pygments_lexer": "ipython3",
   "version": "3.6.7"
  }
 },
 "nbformat": 4,
 "nbformat_minor": 2
}
